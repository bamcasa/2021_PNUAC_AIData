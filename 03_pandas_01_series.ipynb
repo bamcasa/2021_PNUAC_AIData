{
  "nbformat": 4,
  "nbformat_minor": 0,
  "metadata": {
    "colab": {
      "name": "03_pandas_01_series.ipynb",
      "provenance": [],
      "collapsed_sections": [
        "4KcXf93NvRYF",
        "d0E16AJisWtp",
        "HfWit-RAxT3K",
        "kwW885PFyuRN",
        "NZG5FYmfzuSu",
        "cmdEnUaa06Ss",
        "JLUVMpZG3aMB",
        "Qamj0jPw6-Fl",
        "QTVb55OJ7HQx",
        "0L8-sxGe7m1d",
        "y5yftJED790Q",
        "bFXP2GytA5X_",
        "5otXQBjgCfxm"
      ],
      "toc_visible": true,
      "include_colab_link": true
    },
    "interpreter": {
      "hash": "b3ba2566441a7c06988d0923437866b63cedc61552a5af99d1f4fb67d367b25f"
    },
    "kernelspec": {
      "display_name": "Python 3.8.5 64-bit ('base': conda)",
      "name": "python3"
    },
    "language_info": {
      "name": "python",
      "version": ""
    }
  },
  "cells": [
    {
      "cell_type": "markdown",
      "metadata": {
        "id": "view-in-github",
        "colab_type": "text"
      },
      "source": [
        "<a href=\"https://colab.research.google.com/github/bamcasa/2021_PNUAC_AIData/blob/main/03_pandas_01_series.ipynb\" target=\"_parent\"><img src=\"https://colab.research.google.com/assets/colab-badge.svg\" alt=\"Open In Colab\"/></a>"
      ]
    },
    {
      "cell_type": "markdown",
      "metadata": {
        "id": "oXiH4jCRsYLt"
      },
      "source": [
        "# **pandas**\n",
        "\n",
        "\n",
        "---\n",
        "\n",
        "\n",
        "## **파이썬에서 사용하는 데이터분석 라이브러리**\n",
        " + 행과 열로 이루어진 데이터 객체를 만들어 다룰 수 있게 되며 보다 안정적으로 대용량의 데이터들을 처리하는데 매우 편리한 도구\n",
        " + NumPy를 기반으로 구축되었으며 과학 컴퓨팅 환경 내에서 다른 많은 타사 라이브러리와 잘 통합되도록 설계 \n",
        " + 많은 기능을 가진 데이터 구조\n",
        "   - 다양한 방식으로 색인된 데이터를 다룰 수 있는 기능\n",
        "   - 시계열 데이터와 비시계열 데이터를 함께 다룰 수 있는 통합 자료 구조\n",
        "   - 누락된 데이터를 유연하게 처리할 수 있는 기능\n",
        "   - SQL 같은 일반 데이터베이스처럼 데이터를 합치고 관계연산을 수행하는 기능\n",
        "\n",
        "### **pandas 자료 구조**\n",
        "* **Series**\n",
        " + 1차원 자료구조\n",
        " + index로 value를 구분하는 1차원 자료구조\n",
        "\n",
        "* **DataFrame**\n",
        " + 2차원 자료구조\n",
        " + DataFrame는 행과 열이 있는 테이블 데이터\n",
        "\n",
        "\n",
        "\n",
        "---\n",
        "\n"
      ]
    },
    {
      "cell_type": "markdown",
      "metadata": {
        "id": "4KcXf93NvRYF"
      },
      "source": [
        "\n",
        "### **pandas 라이브러리 추가**"
      ]
    },
    {
      "cell_type": "code",
      "metadata": {
        "id": "qP-hrdOdqf41"
      },
      "source": [
        "import pandas as pd"
      ],
      "execution_count": 4,
      "outputs": []
    },
    {
      "cell_type": "markdown",
      "metadata": {
        "id": "LAnEv6KrS1yY"
      },
      "source": [
        "\n",
        "# **pandas Series**"
      ]
    },
    {
      "cell_type": "markdown",
      "metadata": {
        "id": "d0E16AJisWtp"
      },
      "source": [
        "### **리스트(list)를 시리즈(Series) 변경**"
      ]
    },
    {
      "cell_type": "markdown",
      "metadata": {
        "id": "qHTESQA2xuhU"
      },
      "source": [
        "#### pd.Series()"
      ]
    },
    {
      "cell_type": "code",
      "metadata": {
        "colab": {
          "base_uri": "https://localhost:8080/"
        },
        "id": "mlr1tureqzcQ",
        "outputId": "50c5c8ba-7159-4f8c-ef3d-86e1ad20d698"
      },
      "source": [
        "lt = [4.1, 5.5, 9.0, 15.0, 19.0 ,21.3]\n",
        "\n",
        "slt = pd.Series(lt)\n",
        "\n",
        "#리스트를 시리즈로 변경하기\n",
        "\n",
        "print(slt)\n",
        "print(type(slt))"
      ],
      "execution_count": 8,
      "outputs": [
        {
          "output_type": "stream",
          "text": [
            "0     4.1\n",
            "1     5.5\n",
            "2     9.0\n",
            "3    15.0\n",
            "4    19.0\n",
            "5    21.3\n",
            "dtype: float64\n",
            "<class 'pandas.core.series.Series'>\n"
          ],
          "name": "stdout"
        }
      ]
    },
    {
      "cell_type": "code",
      "metadata": {
        "colab": {
          "base_uri": "https://localhost:8080/"
        },
        "id": "0g85AdHaU8bb",
        "outputId": "503b3ed5-f1ce-46b3-9725-7fd8cf607e93"
      },
      "source": [
        "#시리즈의 3번째 요소가져오기\n",
        "print(slt[2])"
      ],
      "execution_count": 9,
      "outputs": [
        {
          "output_type": "stream",
          "text": [
            "9.0\n"
          ],
          "name": "stdout"
        }
      ]
    },
    {
      "cell_type": "markdown",
      "metadata": {
        "id": "HZY2L540yCin"
      },
      "source": [
        "#### 리스트를 변경한 series index, values"
      ]
    },
    {
      "cell_type": "code",
      "metadata": {
        "colab": {
          "base_uri": "https://localhost:8080/"
        },
        "id": "bGHqaUmHr7Cr",
        "outputId": "8be55cd3-2c95-46ab-98d3-8d62b66b7141"
      },
      "source": [
        "#시리즈 인덱스, 키, 값 출력\n",
        "\n",
        "print(slt.index)\n",
        "print(slt.keys())\n",
        "print(slt.values)"
      ],
      "execution_count": 14,
      "outputs": [
        {
          "output_type": "stream",
          "text": [
            "RangeIndex(start=0, stop=6, step=1)\n",
            "RangeIndex(start=0, stop=6, step=1)\n",
            "[ 4.1  5.5  9.  15.  19.  21.3]\n"
          ],
          "name": "stdout"
        }
      ]
    },
    {
      "cell_type": "markdown",
      "metadata": {
        "id": "HfWit-RAxT3K"
      },
      "source": [
        "### **딕션너리(dictionary)를 시리즈(Series)로 변경**"
      ]
    },
    {
      "cell_type": "markdown",
      "metadata": {
        "id": "kwW885PFyuRN"
      },
      "source": [
        "#### pd.Series()"
      ]
    },
    {
      "cell_type": "code",
      "metadata": {
        "colab": {
          "base_uri": "https://localhost:8080/"
        },
        "id": "Onsmw6rNq-IJ",
        "outputId": "e883e4a0-36b0-4f13-825f-0206d5457166"
      },
      "source": [
        "#dataframe -> series\n",
        "dt = {'1월':4.1, '2월':5.5, '3월':9.0, '4월':15.0, '5월':19.0 ,'6월':21.3}\n",
        " \n",
        "sdt = pd.Series(dt)\n",
        "\n",
        "print(sdt)"
      ],
      "execution_count": 17,
      "outputs": [
        {
          "output_type": "stream",
          "text": [
            "1월     4.1\n",
            "2월     5.5\n",
            "3월     9.0\n",
            "4월    15.0\n",
            "5월    19.0\n",
            "6월    21.3\n",
            "dtype: float64\n"
          ],
          "name": "stdout"
        }
      ]
    },
    {
      "cell_type": "markdown",
      "metadata": {
        "id": "TnDYv6kRzETr"
      },
      "source": [
        "#### 딕션너리를 변경한 series index, **values**"
      ]
    },
    {
      "cell_type": "code",
      "metadata": {
        "colab": {
          "base_uri": "https://localhost:8080/"
        },
        "id": "uJ0Ys_lmrNMM",
        "outputId": "5f800179-a883-4b4a-8962-46565021ef44"
      },
      "source": [
        "print('index :', sdt.index)\n",
        "print('index :', sdt.keys())\n",
        "print('value :', sdt.values)"
      ],
      "execution_count": 18,
      "outputs": [
        {
          "output_type": "stream",
          "text": [
            "index : Index(['1월', '2월', '3월', '4월', '5월', '6월'], dtype='object')\n",
            "index : Index(['1월', '2월', '3월', '4월', '5월', '6월'], dtype='object')\n",
            "value : [ 4.1  5.5  9.  15.  19.  21.3]\n"
          ],
          "name": "stdout"
        }
      ]
    },
    {
      "cell_type": "code",
      "metadata": {
        "colab": {
          "base_uri": "https://localhost:8080/"
        },
        "id": "cf3sRuL5Vkkl",
        "outputId": "937358d5-8033-47fe-f8cb-ab84c9a2f2c4"
      },
      "source": [
        "#3월의 값 가져오기\n",
        "sdt['3월']"
      ],
      "execution_count": 20,
      "outputs": [
        {
          "output_type": "execute_result",
          "data": {
            "text/plain": [
              "9.0"
            ]
          },
          "metadata": {
            "tags": []
          },
          "execution_count": 20
        }
      ]
    },
    {
      "cell_type": "markdown",
      "metadata": {
        "id": "NZG5FYmfzuSu"
      },
      "source": [
        "### **시리즈(Series) 인덱스(index) 변경하기**"
      ]
    },
    {
      "cell_type": "code",
      "metadata": {
        "id": "UhzAl0UL0ArX"
      },
      "source": [
        "ltk = ['1월', '2월', '3월', '4월', '5월', '6월']\n",
        "lt = [4.1, 5.5, 9.0, 15.0, 19.0 ,21.3]"
      ],
      "execution_count": 34,
      "outputs": []
    },
    {
      "cell_type": "markdown",
      "metadata": {
        "id": "6nOM0uocz86W"
      },
      "source": [
        "#### 생성시 변경하기"
      ]
    },
    {
      "cell_type": "code",
      "metadata": {
        "colab": {
          "base_uri": "https://localhost:8080/"
        },
        "id": "RA3ULdcCz6as",
        "outputId": "3d9dc694-6bb6-45f6-f197-69e8d0770ac1"
      },
      "source": [
        "#시리즈 생성시 인덱스값 설정하기\n",
        "slt = pd.Series(lt,index=ltk)\n",
        "print(slt)"
      ],
      "execution_count": 31,
      "outputs": [
        {
          "output_type": "stream",
          "text": [
            "1월     4.1\n",
            "2월     5.5\n",
            "3월     9.0\n",
            "4월    15.0\n",
            "5월    19.0\n",
            "6월    21.3\n",
            "dtype: float64\n"
          ],
          "name": "stdout"
        }
      ]
    },
    {
      "cell_type": "markdown",
      "metadata": {
        "id": "_jbh2QZY0dYl"
      },
      "source": [
        "#### 생성후 변경하기\n"
      ]
    },
    {
      "cell_type": "code",
      "metadata": {
        "colab": {
          "base_uri": "https://localhost:8080/"
        },
        "id": "KZi4b37y0q8z",
        "outputId": "9ddfa184-cb35-4841-f6a9-b250e163ea99"
      },
      "source": [
        "#시리즈 생성시 인덱스없이 생성\n",
        "slt = pd.Series(lt)\n",
        "print(slt)\n"
      ],
      "execution_count": 39,
      "outputs": [
        {
          "output_type": "stream",
          "text": [
            "0     4.1\n",
            "1     5.5\n",
            "2     9.0\n",
            "3    15.0\n",
            "4    19.0\n",
            "5    21.3\n",
            "dtype: float64\n"
          ],
          "name": "stdout"
        }
      ]
    },
    {
      "cell_type": "code",
      "metadata": {
        "colab": {
          "base_uri": "https://localhost:8080/"
        },
        "id": "NkWLof75WFhu",
        "outputId": "f248d655-d2f4-4e84-95a6-37a8269f0f51"
      },
      "source": [
        "slt.index"
      ],
      "execution_count": 40,
      "outputs": [
        {
          "output_type": "execute_result",
          "data": {
            "text/plain": [
              "RangeIndex(start=0, stop=6, step=1)"
            ]
          },
          "metadata": {
            "tags": []
          },
          "execution_count": 40
        }
      ]
    },
    {
      "cell_type": "code",
      "metadata": {
        "colab": {
          "base_uri": "https://localhost:8080/"
        },
        "id": "PLjO-A_IWEM0",
        "outputId": "22f331d1-d490-42a1-e666-18468fbc42dd"
      },
      "source": [
        "#시리즈 인덱스 변경\n",
        " \n",
        "print(slt)"
      ],
      "execution_count": 41,
      "outputs": [
        {
          "output_type": "stream",
          "text": [
            "0     4.1\n",
            "1     5.5\n",
            "2     9.0\n",
            "3    15.0\n",
            "4    19.0\n",
            "5    21.3\n",
            "dtype: float64\n"
          ],
          "name": "stdout"
        }
      ]
    },
    {
      "cell_type": "markdown",
      "metadata": {
        "id": "cmdEnUaa06Ss"
      },
      "source": [
        "### **시리즈(Series) 인덱싱(indexing)**\n",
        "* 인덱스를 가지고 시리즈에서 특정 항목 추출\n",
        "\n"
      ]
    },
    {
      "cell_type": "code",
      "metadata": {
        "colab": {
          "base_uri": "https://localhost:8080/"
        },
        "id": "TUaFgVms1Pgm",
        "outputId": "b9165a3c-37b5-4f6e-b038-4737f85b1ada"
      },
      "source": [
        "ltk = ['1월', '2월', '3월', '4월', '5월', '6월']\n",
        "lt = [4.1, 5.5, 9.0, 15.0, 19.0 ,21.3]\n",
        "slt = pd.Series(lt)\n",
        "slt2 = pd.Series(lt, index=ltk)\n",
        "print(slt)\n",
        "print(slt2)"
      ],
      "execution_count": 45,
      "outputs": [
        {
          "output_type": "stream",
          "text": [
            "0     4.1\n",
            "1     5.5\n",
            "2     9.0\n",
            "3    15.0\n",
            "4    19.0\n",
            "5    21.3\n",
            "dtype: float64\n",
            "1월     4.1\n",
            "2월     5.5\n",
            "3월     9.0\n",
            "4월    15.0\n",
            "5월    19.0\n",
            "6월    21.3\n",
            "dtype: float64\n"
          ],
          "name": "stdout"
        }
      ]
    },
    {
      "cell_type": "code",
      "metadata": {
        "colab": {
          "base_uri": "https://localhost:8080/"
        },
        "id": "kxa270nt3Hga",
        "outputId": "09f8a42a-7d30-4b91-d147-9de8537fc79a"
      },
      "source": [
        "#slt 시리즈에서 인덱스가 2인 항목 값 가져오기\n",
        "slt[2]"
      ],
      "execution_count": 42,
      "outputs": [
        {
          "output_type": "execute_result",
          "data": {
            "text/plain": [
              "9.0"
            ]
          },
          "metadata": {
            "tags": []
          },
          "execution_count": 42
        }
      ]
    },
    {
      "cell_type": "code",
      "metadata": {
        "colab": {
          "base_uri": "https://localhost:8080/"
        },
        "id": "3TF_1-Ny3NGW",
        "outputId": "ce3f00dd-77ff-463a-cf08-9dd512d69100"
      },
      "source": [
        "#slt2 시리즈에서 3월의 값가져오기\n",
        "slt2['3월']"
      ],
      "execution_count": 46,
      "outputs": [
        {
          "output_type": "execute_result",
          "data": {
            "text/plain": [
              "9.0"
            ]
          },
          "metadata": {
            "tags": []
          },
          "execution_count": 46
        }
      ]
    },
    {
      "cell_type": "markdown",
      "metadata": {
        "id": "JLUVMpZG3aMB"
      },
      "source": [
        "### **시리즈(Series) 슬라이싱(Slicing)**\n",
        "* 시리즈 일부를 추출하여 시리즈로 반환\n",
        "* 콜론(;), 쉼표(,) 사용\n",
        "* 조건 사용"
      ]
    },
    {
      "cell_type": "markdown",
      "metadata": {
        "id": "Qamj0jPw6-Fl"
      },
      "source": [
        "#### 콜론(:), 쉼표(,) 사용"
      ]
    },
    {
      "cell_type": "code",
      "metadata": {
        "colab": {
          "base_uri": "https://localhost:8080/"
        },
        "id": "8hx190om36xv",
        "outputId": "03b6fc57-c90d-471f-8157-4f101415e3b1"
      },
      "source": [
        "#인덱스가 1에서 2인 자료 추출\n",
        "sub1 = slt[1:3]\n",
        "print(sub1)"
      ],
      "execution_count": null,
      "outputs": [
        {
          "output_type": "stream",
          "text": [
            "1    5.5\n",
            "2    9.0\n",
            "dtype: float64\n"
          ],
          "name": "stdout"
        }
      ]
    },
    {
      "cell_type": "code",
      "metadata": {
        "colab": {
          "base_uri": "https://localhost:8080/"
        },
        "id": "J1rp78tW4fwV",
        "outputId": "7a63c119-2415-4651-c23b-fb925f8a138f"
      },
      "source": [
        "#인덱스가 1월에서 3월인 자료 추출\n",
        "sub2 = slt2['1월':'3월']\n",
        "print(sub2)"
      ],
      "execution_count": 49,
      "outputs": [
        {
          "output_type": "stream",
          "text": [
            "1월    4.1\n",
            "2월    5.5\n",
            "3월    9.0\n",
            "dtype: float64\n"
          ],
          "name": "stdout"
        }
      ]
    },
    {
      "cell_type": "code",
      "metadata": {
        "colab": {
          "base_uri": "https://localhost:8080/"
        },
        "id": "Xl4j7Xtu4pZL",
        "outputId": "2829cd03-7496-4843-c296-1d55c6c24df3"
      },
      "source": [
        "#인덱스가 1,3,5인 자료 추출\n",
        "sub1_1 = slt[[1,3,5]]\n",
        "print(sub1_1)"
      ],
      "execution_count": 51,
      "outputs": [
        {
          "output_type": "stream",
          "text": [
            "1     5.5\n",
            "3    15.0\n",
            "5    21.3\n",
            "dtype: float64\n"
          ],
          "name": "stdout"
        }
      ]
    },
    {
      "cell_type": "code",
      "metadata": {
        "colab": {
          "base_uri": "https://localhost:8080/"
        },
        "id": "OvrbFhUf5AVQ",
        "outputId": "74970270-6efd-4395-c26a-b844c9e79f08"
      },
      "source": [
        "##인덱스가 2월,4월, 6월인 자료 추출\n",
        "sub2_1 = slt2[['2월','4월','6월']]\n",
        "print(sub2_1)"
      ],
      "execution_count": 53,
      "outputs": [
        {
          "output_type": "stream",
          "text": [
            "2월     5.5\n",
            "4월    15.0\n",
            "6월    21.3\n",
            "dtype: float64\n"
          ],
          "name": "stdout"
        }
      ]
    },
    {
      "cell_type": "markdown",
      "metadata": {
        "id": "QTVb55OJ7HQx"
      },
      "source": [
        "#### 조건 사용"
      ]
    },
    {
      "cell_type": "code",
      "metadata": {
        "colab": {
          "base_uri": "https://localhost:8080/"
        },
        "id": "D2bcfzGj7J6a",
        "outputId": "7896fd81-e5ad-4b78-b90a-1f5e73d31ff7"
      },
      "source": [
        "print(slt)"
      ],
      "execution_count": 54,
      "outputs": [
        {
          "output_type": "stream",
          "text": [
            "0     4.1\n",
            "1     5.5\n",
            "2     9.0\n",
            "3    15.0\n",
            "4    19.0\n",
            "5    21.3\n",
            "dtype: float64\n"
          ],
          "name": "stdout"
        }
      ]
    },
    {
      "cell_type": "code",
      "metadata": {
        "colab": {
          "base_uri": "https://localhost:8080/"
        },
        "id": "qqz0ga8w7TLf",
        "outputId": "b94df29b-8e72-4920-faac-126bd0d11f6c"
      },
      "source": [
        "slt > 10"
      ],
      "execution_count": 55,
      "outputs": [
        {
          "output_type": "execute_result",
          "data": {
            "text/plain": [
              "0    False\n",
              "1    False\n",
              "2    False\n",
              "3     True\n",
              "4     True\n",
              "5     True\n",
              "dtype: bool"
            ]
          },
          "metadata": {
            "tags": []
          },
          "execution_count": 55
        }
      ]
    },
    {
      "cell_type": "code",
      "metadata": {
        "colab": {
          "base_uri": "https://localhost:8080/"
        },
        "id": "IdMbByTM7fBM",
        "outputId": "fc2e285a-03db-4478-c96b-624e6d43a3cb"
      },
      "source": [
        "#값이 10보다 큰 자료 추출1\n",
        "slt[slt > 10]"
      ],
      "execution_count": 56,
      "outputs": [
        {
          "output_type": "execute_result",
          "data": {
            "text/plain": [
              "3    15.0\n",
              "4    19.0\n",
              "5    21.3\n",
              "dtype: float64"
            ]
          },
          "metadata": {
            "tags": []
          },
          "execution_count": 56
        }
      ]
    },
    {
      "cell_type": "code",
      "metadata": {
        "colab": {
          "base_uri": "https://localhost:8080/"
        },
        "id": "R1QgLNEW7iOu",
        "outputId": "2fb9420e-d68a-476e-ffd4-9924a79581a6"
      },
      "source": [
        "#값이 10보다 큰 자료 추출2\n",
        "slt[slt.values > 10]"
      ],
      "execution_count": 57,
      "outputs": [
        {
          "output_type": "execute_result",
          "data": {
            "text/plain": [
              "3    15.0\n",
              "4    19.0\n",
              "5    21.3\n",
              "dtype: float64"
            ]
          },
          "metadata": {
            "tags": []
          },
          "execution_count": 57
        }
      ]
    },
    {
      "cell_type": "code",
      "metadata": {
        "colab": {
          "base_uri": "https://localhost:8080/"
        },
        "id": "w_DB2GG07tLZ",
        "outputId": "34309b6e-fa9c-432a-d073-344f6a088076"
      },
      "source": [
        "#인덱스가 3보다 크거나 같은 자료 추출\n",
        "slt[slt.index >= 3]"
      ],
      "execution_count": 58,
      "outputs": [
        {
          "output_type": "execute_result",
          "data": {
            "text/plain": [
              "3    15.0\n",
              "4    19.0\n",
              "5    21.3\n",
              "dtype: float64"
            ]
          },
          "metadata": {
            "tags": []
          },
          "execution_count": 58
        }
      ]
    },
    {
      "cell_type": "markdown",
      "metadata": {
        "id": "0L8-sxGe7m1d"
      },
      "source": [
        "### **시리즈(Series) 연산**\n",
        "* 시리즈(Series) 길이가 같고 인덱스가 같은 것끼리 연산\n",
        " + 더하기(+) : 각 값 더하기 \n",
        " + 곱하기(*) : 각 값 곱하기"
      ]
    },
    {
      "cell_type": "code",
      "metadata": {
        "colab": {
          "base_uri": "https://localhost:8080/"
        },
        "id": "YEPD_XXT8gMP",
        "outputId": "2f4f7691-a1bb-47dc-aa2b-b4b5bcf9b86e"
      },
      "source": [
        "print(slt)\n",
        "print(slt2)"
      ],
      "execution_count": null,
      "outputs": [
        {
          "output_type": "stream",
          "text": [
            "0     4.1\n",
            "1     5.5\n",
            "2     9.0\n",
            "3    15.0\n",
            "4    19.0\n",
            "5    21.3\n",
            "dtype: float64\n",
            "1월     4.1\n",
            "2월     5.5\n",
            "3월     9.0\n",
            "4월    15.0\n",
            "5월    19.0\n",
            "6월    21.3\n",
            "dtype: float64\n"
          ],
          "name": "stdout"
        }
      ]
    },
    {
      "cell_type": "code",
      "metadata": {
        "colab": {
          "base_uri": "https://localhost:8080/"
        },
        "id": "y766JEqK8rf-",
        "outputId": "e7b6c9b2-0c62-470d-b3b2-7cd7673c6194"
      },
      "source": [
        "#인덱스가 다른 경우\n",
        "print(slt + slt2)"
      ],
      "execution_count": 60,
      "outputs": [
        {
          "output_type": "stream",
          "text": [
            "1월     8.2\n",
            "2월    11.0\n",
            "3월    18.0\n",
            "4월    30.0\n",
            "5월    38.0\n",
            "6월    42.6\n",
            "dtype: float64\n"
          ],
          "name": "stdout"
        }
      ]
    },
    {
      "cell_type": "code",
      "metadata": {
        "colab": {
          "base_uri": "https://localhost:8080/"
        },
        "id": "j5VSvPbK84Vz",
        "outputId": "197c6179-99d2-49a4-e1fc-d6a16d95492b"
      },
      "source": [
        "slt.index = slt2.index\n",
        "print(slt)\n",
        "print(slt2)"
      ],
      "execution_count": 59,
      "outputs": [
        {
          "output_type": "stream",
          "text": [
            "1월     4.1\n",
            "2월     5.5\n",
            "3월     9.0\n",
            "4월    15.0\n",
            "5월    19.0\n",
            "6월    21.3\n",
            "dtype: float64\n",
            "1월     4.1\n",
            "2월     5.5\n",
            "3월     9.0\n",
            "4월    15.0\n",
            "5월    19.0\n",
            "6월    21.3\n",
            "dtype: float64\n"
          ],
          "name": "stdout"
        }
      ]
    },
    {
      "cell_type": "code",
      "metadata": {
        "colab": {
          "base_uri": "https://localhost:8080/"
        },
        "id": "m4hMGiJc9FJT",
        "outputId": "8a5f092c-de92-4a92-e48a-5f8daa9901c7"
      },
      "source": [
        "#인덱스가 같은 경우\n",
        "print(slt + slt2)\n",
        "print(slt * slt2)"
      ],
      "execution_count": 61,
      "outputs": [
        {
          "output_type": "stream",
          "text": [
            "1월     8.2\n",
            "2월    11.0\n",
            "3월    18.0\n",
            "4월    30.0\n",
            "5월    38.0\n",
            "6월    42.6\n",
            "dtype: float64\n",
            "1월     16.81\n",
            "2월     30.25\n",
            "3월     81.00\n",
            "4월    225.00\n",
            "5월    361.00\n",
            "6월    453.69\n",
            "dtype: float64\n"
          ],
          "name": "stdout"
        }
      ]
    },
    {
      "cell_type": "markdown",
      "metadata": {
        "id": "y5yftJED790Q"
      },
      "source": [
        "### **시리즈(Series) 기본 조회와 기초 통계 메소드**\n",
        "* head(n) : 상위 n개 조회, n생략 시 5개 조회\n",
        "+ tail(n) : 하위 n개 조회, n생략 시 5개 조회\n",
        "+ describe() : 요약 통계량 계산\n",
        "+ mean() : 평균\n",
        "+ max() : 최대\n",
        "+ min() : 최소\n",
        "+ std()  : 표준편차"
      ]
    },
    {
      "cell_type": "code",
      "metadata": {
        "colab": {
          "base_uri": "https://localhost:8080/"
        },
        "id": "FpFqpash-KEK",
        "outputId": "1dbbbc90-ba8a-48d4-a7ba-b81b6cbe424d"
      },
      "source": [
        "print(slt)"
      ],
      "execution_count": 62,
      "outputs": [
        {
          "output_type": "stream",
          "text": [
            "1월     4.1\n",
            "2월     5.5\n",
            "3월     9.0\n",
            "4월    15.0\n",
            "5월    19.0\n",
            "6월    21.3\n",
            "dtype: float64\n"
          ],
          "name": "stdout"
        }
      ]
    },
    {
      "cell_type": "code",
      "metadata": {
        "colab": {
          "base_uri": "https://localhost:8080/"
        },
        "id": "wJEKOJSAAEaC",
        "outputId": "e7aadbd0-a43c-4775-8319-92e070c432d7"
      },
      "source": [
        "#상위 5개 자료 추출\n",
        "slt.head()"
      ],
      "execution_count": 64,
      "outputs": [
        {
          "output_type": "execute_result",
          "data": {
            "text/plain": [
              "1월     4.1\n",
              "2월     5.5\n",
              "3월     9.0\n",
              "4월    15.0\n",
              "5월    19.0\n",
              "dtype: float64"
            ]
          },
          "metadata": {
            "tags": []
          },
          "execution_count": 64
        }
      ]
    },
    {
      "cell_type": "code",
      "metadata": {
        "colab": {
          "base_uri": "https://localhost:8080/"
        },
        "id": "luZHKfrSAKB6",
        "outputId": "68b258f2-ce9e-4033-c48f-2dc941c8b00c"
      },
      "source": [
        "#하위 5ㅎ2개 자료 추출\n",
        "slt.tail()"
      ],
      "execution_count": 65,
      "outputs": [
        {
          "output_type": "execute_result",
          "data": {
            "text/plain": [
              "2월     5.5\n",
              "3월     9.0\n",
              "4월    15.0\n",
              "5월    19.0\n",
              "6월    21.3\n",
              "dtype: float64"
            ]
          },
          "metadata": {
            "tags": []
          },
          "execution_count": 65
        }
      ]
    },
    {
      "cell_type": "code",
      "metadata": {
        "colab": {
          "base_uri": "https://localhost:8080/"
        },
        "id": "1ayZWyLjAMFG",
        "outputId": "72b2a9c1-e13a-4b37-a478-432fa9f53ce0"
      },
      "source": [
        "#시리즈 통계 요약\n",
        "slt.describe()"
      ],
      "execution_count": 66,
      "outputs": [
        {
          "output_type": "execute_result",
          "data": {
            "text/plain": [
              "count     6.000000\n",
              "mean     12.316667\n",
              "std       7.177024\n",
              "min       4.100000\n",
              "25%       6.375000\n",
              "50%      12.000000\n",
              "75%      18.000000\n",
              "max      21.300000\n",
              "dtype: float64"
            ]
          },
          "metadata": {
            "tags": []
          },
          "execution_count": 66
        }
      ]
    },
    {
      "cell_type": "code",
      "metadata": {
        "colab": {
          "base_uri": "https://localhost:8080/"
        },
        "id": "UWIUKzfKAPpE",
        "outputId": "3498b817-c64b-4f15-9bfe-0e182759a145"
      },
      "source": [
        "#시리즈 값 평균\n",
        "slt.mean()"
      ],
      "execution_count": 67,
      "outputs": [
        {
          "output_type": "execute_result",
          "data": {
            "text/plain": [
              "12.316666666666668"
            ]
          },
          "metadata": {
            "tags": []
          },
          "execution_count": 67
        }
      ]
    },
    {
      "cell_type": "markdown",
      "metadata": {
        "id": "bFXP2GytA5X_"
      },
      "source": [
        "### **자주 사용되는 메소드**\n",
        "+ equals() : 시리즈와 시리즈가 같은지 비교, 키와 값이 모두 같아야 함\n",
        "+ replace() : 특정값을 가진 요소 값을 변경\n",
        "+ isin() : 시리즈에 포함된 값이 있는지 확인\n",
        "+ drop_duplicates() : 중복값이 없는 시리즈 반환\n",
        "+ append() : 2개이상의 시리즈 연결\n",
        "+ sort_index(ascending=True) : 인덱스로 정렬\n",
        "+ sort_values(ascending=False) : 값으로 정렬\n",
        "+ to_frame() : 시리즈를 데이터프레임으로 변경"
      ]
    },
    {
      "cell_type": "code",
      "metadata": {
        "id": "BXjfGW9nBeXU"
      },
      "source": [
        "dt = {'1월':4.1, '2월':5.5, '3월':9.0, '4월':15.0, '5월':19.0 ,'6월':21.3}\n",
        "sdt1 = pd.Series(dt)  \n",
        "sdt2 = pd.Series(dt.values()) "
      ],
      "execution_count": 77,
      "outputs": []
    },
    {
      "cell_type": "code",
      "metadata": {
        "colab": {
          "base_uri": "https://localhost:8080/"
        },
        "id": "V10QK33cBs69",
        "outputId": "7b4a57e4-a674-4b3b-f0ae-6791b77fab7b"
      },
      "source": [
        "print('[시리즈1]')\n",
        "print(sdt1)\n",
        "print('[시리즈2]')\n",
        "print(sdt2) "
      ],
      "execution_count": 69,
      "outputs": [
        {
          "output_type": "stream",
          "text": [
            "[시리즈1]\n",
            "1월     4.1\n",
            "2월     5.5\n",
            "3월     9.0\n",
            "4월    15.0\n",
            "5월    19.0\n",
            "6월    21.3\n",
            "dtype: float64\n",
            "[시리즈2]\n",
            "0     4.1\n",
            "1     5.5\n",
            "2     9.0\n",
            "3    15.0\n",
            "4    19.0\n",
            "5    21.3\n",
            "dtype: float64\n"
          ],
          "name": "stdout"
        }
      ]
    },
    {
      "cell_type": "code",
      "metadata": {
        "colab": {
          "base_uri": "https://localhost:8080/"
        },
        "id": "gFzdso_OB0Wf",
        "outputId": "e02065d5-041e-4943-992e-a835edd53903"
      },
      "source": [
        "print('비교 :', sdt1.equals(sdt2))"
      ],
      "execution_count": 70,
      "outputs": [
        {
          "output_type": "stream",
          "text": [
            "비교 : False\n"
          ],
          "name": "stdout"
        }
      ]
    },
    {
      "cell_type": "code",
      "metadata": {
        "colab": {
          "base_uri": "https://localhost:8080/"
        },
        "id": "Im4my3opB5LV",
        "outputId": "9f974641-56c7-497c-cf79-f6a2474c7c66"
      },
      "source": [
        "print('변경 :')\n",
        "\n",
        "#5.5 값을 15로 변경\n",
        "sdt1 = sdt1.replace(5.5,15)\n",
        "\n",
        "print(sdt1)"
      ],
      "execution_count": 72,
      "outputs": [
        {
          "output_type": "stream",
          "text": [
            "변경 :\n",
            "1월     4.1\n",
            "2월    15.0\n",
            "3월     9.0\n",
            "4월    15.0\n",
            "5월    19.0\n",
            "6월    21.3\n",
            "dtype: float64\n"
          ],
          "name": "stdout"
        }
      ]
    },
    {
      "cell_type": "code",
      "metadata": {
        "colab": {
          "base_uri": "https://localhost:8080/"
        },
        "id": "AsiPDZ29YjQc",
        "outputId": "564309a7-0f4c-4351-ff51-d911b125dc78"
      },
      "source": [
        "sdt1 = sdt1.replace(15, 15.5)\n",
        "print(sdt1)"
      ],
      "execution_count": 73,
      "outputs": [
        {
          "output_type": "stream",
          "text": [
            "1월     4.1\n",
            "2월    15.5\n",
            "3월     9.0\n",
            "4월    15.5\n",
            "5월    19.0\n",
            "6월    21.3\n",
            "dtype: float64\n"
          ],
          "name": "stdout"
        }
      ]
    },
    {
      "cell_type": "code",
      "metadata": {
        "colab": {
          "base_uri": "https://localhost:8080/"
        },
        "id": "F1480C2SB8Mr",
        "outputId": "e1893bb8-43f8-4cdc-ace3-eaf48ba88222"
      },
      "source": [
        "print('포함:')\n",
        "#값을 15.5, 9.0을 가지는 자료 추출\n",
        "print(sdt1[sdt1.isin([15.5,9.0])])\n",
        " "
      ],
      "execution_count": 74,
      "outputs": [
        {
          "output_type": "stream",
          "text": [
            "포함:\n",
            "2월    15.5\n",
            "3월     9.0\n",
            "4월    15.5\n",
            "dtype: float64\n"
          ],
          "name": "stdout"
        }
      ]
    },
    {
      "cell_type": "code",
      "metadata": {
        "colab": {
          "base_uri": "https://localhost:8080/"
        },
        "id": "W8wfvcNrCC5E",
        "outputId": "aabfaa98-e405-4793-8ed8-9b2c10ba5e1e"
      },
      "source": [
        "print('중복제거:')\n",
        "print(sdt1.drop_duplicates()) \n",
        "print('중복제거반영확인:')\n",
        "#중복제거하여 시리즈에 반영\n",
        "sdt1 = sdt1.drop_duplicates()\n",
        "print(sdt1)"
      ],
      "execution_count": 76,
      "outputs": [
        {
          "output_type": "stream",
          "text": [
            "중복제거:\n",
            "1월     4.1\n",
            "2월    15.5\n",
            "3월     9.0\n",
            "5월    19.0\n",
            "6월    21.3\n",
            "dtype: float64\n",
            "중복제거반영확인:\n",
            "1월     4.1\n",
            "2월    15.5\n",
            "3월     9.0\n",
            "5월    19.0\n",
            "6월    21.3\n",
            "dtype: float64\n"
          ],
          "name": "stdout"
        }
      ]
    },
    {
      "cell_type": "code",
      "metadata": {
        "colab": {
          "base_uri": "https://localhost:8080/"
        },
        "id": "Qdy9gcQUCHA0",
        "outputId": "dad4a84c-f631-4558-f6e6-09a0747044d7"
      },
      "source": [
        "#시리즈 연결하기\n",
        "print('연결:')\n",
        "print(sdt1.append(sdt2))\n"
      ],
      "execution_count": 78,
      "outputs": [
        {
          "output_type": "stream",
          "text": [
            "연결:\n",
            "1월     4.1\n",
            "2월     5.5\n",
            "3월     9.0\n",
            "4월    15.0\n",
            "5월    19.0\n",
            "6월    21.3\n",
            "0      4.1\n",
            "1      5.5\n",
            "2      9.0\n",
            "3     15.0\n",
            "4     19.0\n",
            "5     21.3\n",
            "dtype: float64\n"
          ],
          "name": "stdout"
        }
      ]
    },
    {
      "cell_type": "code",
      "metadata": {
        "colab": {
          "base_uri": "https://localhost:8080/"
        },
        "id": "JlO85hlmCKEz",
        "outputId": "2f642abd-ab46-4044-89cc-51ed87afe535"
      },
      "source": [
        "print('정렬(값):')\n",
        "print(sdt1.sort_values(ascending=False))\n",
        "#시리즈 값으로 정렬하기\n",
        "print('정렬(인덱스):')\n",
        "print(sdt1.sort_index(ascending=False))\n",
        "#시리즈 인덱스로 역순으로 정렬하기"
      ],
      "execution_count": 79,
      "outputs": [
        {
          "output_type": "stream",
          "text": [
            "정렬(값):\n",
            "6월    21.3\n",
            "5월    19.0\n",
            "4월    15.0\n",
            "3월     9.0\n",
            "2월     5.5\n",
            "1월     4.1\n",
            "dtype: float64\n",
            "정렬(인덱스):\n",
            "6월    21.3\n",
            "5월    19.0\n",
            "4월    15.0\n",
            "3월     9.0\n",
            "2월     5.5\n",
            "1월     4.1\n",
            "dtype: float64\n"
          ],
          "name": "stdout"
        }
      ]
    },
    {
      "cell_type": "code",
      "metadata": {
        "colab": {
          "base_uri": "https://localhost:8080/",
          "height": 256
        },
        "id": "_cVdvd6lCN0F",
        "outputId": "f77580dd-ba57-4964-cd52-2755ccef3dc2"
      },
      "source": [
        "print('데이터프레임변환:')\n",
        "sdt1.to_frame()\n",
        "#시리즈 데이터 프레임으로 변환하기"
      ],
      "execution_count": 80,
      "outputs": [
        {
          "output_type": "stream",
          "text": [
            "데이터프레임변환:\n"
          ],
          "name": "stdout"
        },
        {
          "output_type": "execute_result",
          "data": {
            "text/html": [
              "<div>\n",
              "<style scoped>\n",
              "    .dataframe tbody tr th:only-of-type {\n",
              "        vertical-align: middle;\n",
              "    }\n",
              "\n",
              "    .dataframe tbody tr th {\n",
              "        vertical-align: top;\n",
              "    }\n",
              "\n",
              "    .dataframe thead th {\n",
              "        text-align: right;\n",
              "    }\n",
              "</style>\n",
              "<table border=\"1\" class=\"dataframe\">\n",
              "  <thead>\n",
              "    <tr style=\"text-align: right;\">\n",
              "      <th></th>\n",
              "      <th>0</th>\n",
              "    </tr>\n",
              "  </thead>\n",
              "  <tbody>\n",
              "    <tr>\n",
              "      <th>1월</th>\n",
              "      <td>4.1</td>\n",
              "    </tr>\n",
              "    <tr>\n",
              "      <th>2월</th>\n",
              "      <td>5.5</td>\n",
              "    </tr>\n",
              "    <tr>\n",
              "      <th>3월</th>\n",
              "      <td>9.0</td>\n",
              "    </tr>\n",
              "    <tr>\n",
              "      <th>4월</th>\n",
              "      <td>15.0</td>\n",
              "    </tr>\n",
              "    <tr>\n",
              "      <th>5월</th>\n",
              "      <td>19.0</td>\n",
              "    </tr>\n",
              "    <tr>\n",
              "      <th>6월</th>\n",
              "      <td>21.3</td>\n",
              "    </tr>\n",
              "  </tbody>\n",
              "</table>\n",
              "</div>"
            ],
            "text/plain": [
              "       0\n",
              "1월   4.1\n",
              "2월   5.5\n",
              "3월   9.0\n",
              "4월  15.0\n",
              "5월  19.0\n",
              "6월  21.3"
            ]
          },
          "metadata": {
            "tags": []
          },
          "execution_count": 80
        }
      ]
    },
    {
      "cell_type": "code",
      "metadata": {
        "colab": {
          "base_uri": "https://localhost:8080/"
        },
        "id": "kuAK61heZuQT",
        "outputId": "30d17dbc-b838-4a86-a83f-1e8e5eb8a428"
      },
      "source": [
        "type(sdt1)"
      ],
      "execution_count": null,
      "outputs": [
        {
          "output_type": "execute_result",
          "data": {
            "text/plain": [
              "pandas.core.frame.DataFrame"
            ]
          },
          "metadata": {
            "tags": []
          },
          "execution_count": 55
        }
      ]
    },
    {
      "cell_type": "markdown",
      "metadata": {
        "id": "5otXQBjgCfxm"
      },
      "source": [
        "\n",
        "\n",
        "---\n",
        "## (해결문제)\n",
        "다음 인문대학의 추가 합격 후보 순위를 나타내는 딕션너리이다. 이 딕션너리를 판다스 시리즈로 변환하여 다음을 해결하시오.\n",
        "1. 딕션너리 시리즈로 변환\n",
        "2. 학과를 입력 받아서 해당학과의 후보순위, 단 입력종료 메시지를 추가하여 종료가 입력되지 않으면 계속 입력\n",
        "   * 결과예시)\n",
        "   ``` \n",
        "    학과입력 =>\n",
        "일어학과\n",
        "해당 학과는 존재하지 않습니다.\n",
        "종료하시겠습니까?(종료:y)n\n",
        "학과입력 =>\n",
        "일어일문학과\n",
        "일어일문학과 추가 합격 순위 : 후보 8\n",
        "종료하시겠습니까?(종료:y)y\n",
        "  ```\n",
        "3. 후보순위가 3번 이하인 학과와 후보순위가 20번 이상인 학과 조회\n",
        "   * 조건식을 이용하는 방법\n",
        "   * 메소드를 이용하는 방법 \n",
        "4. 평균 추가 합격 순위\n",
        "   * 출력예) 평균 추가 합격 순위 : 7위\n",
        "5. 학과 명칭대로 정렬하여 시리즈에 반영\n",
        " "
      ]
    },
    {
      "cell_type": "code",
      "metadata": {
        "id": "meuWOzumGhI4"
      },
      "source": [
        "dt = {'국어국문학과':7,\t'중어중문학과':4,\t'일어일문학과':8,\t'영어영문학과':30,\t'불어불문학과':5,\t'독어독문학과':4,\t'노어노문학과':5,\t'한문학과':6,\t'언어정보학과':3,\t'사학과':7,\t'철학과':5,\t'고고학과':9}"
      ],
      "execution_count": null,
      "outputs": []
    },
    {
      "cell_type": "code",
      "metadata": {
        "id": "m6XTp1l4JEHr"
      },
      "source": [
        "# 학과 후보순위\n"
      ],
      "execution_count": 81,
      "outputs": []
    },
    {
      "cell_type": "code",
      "metadata": {
        "colab": {
          "base_uri": "https://localhost:8080/"
        },
        "id": "GupWYDqwJNbZ",
        "outputId": "0523569c-6e0c-4f73-ab96-70f945b3bb9b"
      },
      "source": [
        "# 후보순위가 3번 이하인 학과와 후보순위가 20번 이상인 학과 조회\n",
        " "
      ],
      "execution_count": null,
      "outputs": [
        {
          "output_type": "execute_result",
          "data": {
            "text/plain": [
              "영어영문학과    30\n",
              "언어정보학과     3\n",
              "dtype: int64"
            ]
          },
          "metadata": {
            "tags": []
          },
          "execution_count": 64
        }
      ]
    },
    {
      "cell_type": "code",
      "metadata": {
        "colab": {
          "base_uri": "https://localhost:8080/"
        },
        "id": "4629Y849zscy",
        "outputId": "9e38b138-e4e0-453b-d545-ace9617da355"
      },
      "source": [
        " "
      ],
      "execution_count": null,
      "outputs": [
        {
          "output_type": "execute_result",
          "data": {
            "text/plain": [
              "언어정보학과    3\n",
              "dtype: int64"
            ]
          },
          "metadata": {
            "tags": []
          },
          "execution_count": 65
        }
      ]
    },
    {
      "cell_type": "code",
      "metadata": {
        "colab": {
          "base_uri": "https://localhost:8080/"
        },
        "id": "h29SMwL3zvXD",
        "outputId": "a49f194f-5715-4b98-e4e9-25991ef5e403"
      },
      "source": [
        " "
      ],
      "execution_count": null,
      "outputs": [
        {
          "output_type": "execute_result",
          "data": {
            "text/plain": [
              "영어영문학과    30\n",
              "dtype: int64"
            ]
          },
          "metadata": {
            "tags": []
          },
          "execution_count": 66
        }
      ]
    },
    {
      "cell_type": "code",
      "metadata": {
        "colab": {
          "base_uri": "https://localhost:8080/"
        },
        "id": "L2KvDt6VKT4Z",
        "outputId": "416d3fc9-8b78-4726-c7b5-d86f7aeebe19"
      },
      "source": [
        " "
      ],
      "execution_count": null,
      "outputs": [
        {
          "output_type": "execute_result",
          "data": {
            "text/plain": [
              "언어정보학과     3\n",
              "영어영문학과    30\n",
              "dtype: int64"
            ]
          },
          "metadata": {
            "tags": []
          },
          "execution_count": 67
        }
      ]
    },
    {
      "cell_type": "code",
      "metadata": {
        "colab": {
          "base_uri": "https://localhost:8080/"
        },
        "id": "DSNGbBI2Kw_l",
        "outputId": "697f131b-4cb4-4c43-ccbd-e53fac536248"
      },
      "source": [
        "#평균 추가 합격 순위\n",
        " "
      ],
      "execution_count": null,
      "outputs": [
        {
          "output_type": "stream",
          "text": [
            " 평균 추가 합격 순위 : 7위\n"
          ],
          "name": "stdout"
        }
      ]
    },
    {
      "cell_type": "code",
      "metadata": {
        "id": "gxBiY2vO0Osc"
      },
      "source": [
        " "
      ],
      "execution_count": null,
      "outputs": []
    },
    {
      "cell_type": "code",
      "metadata": {
        "colab": {
          "base_uri": "https://localhost:8080/"
        },
        "id": "IVaxfjTA0Unf",
        "outputId": "67a75d33-da4e-401c-f12d-87e3f48a21fa"
      },
      "source": [
        " "
      ],
      "execution_count": null,
      "outputs": [
        {
          "output_type": "execute_result",
          "data": {
            "text/plain": [
              "언어정보학과     3\n",
              "독어독문학과     4\n",
              "중어중문학과     4\n",
              "노어노문학과     5\n",
              "불어불문학과     5\n",
              "철학과        5\n",
              "한문학과       6\n",
              "국어국문학과     7\n",
              "사학과        7\n",
              "일어일문학과     8\n",
              "고고학과       9\n",
              "영어영문학과    30\n",
              "dtype: int64"
            ]
          },
          "metadata": {
            "tags": []
          },
          "execution_count": 76
        }
      ]
    },
    {
      "cell_type": "code",
      "metadata": {
        "colab": {
          "base_uri": "https://localhost:8080/"
        },
        "id": "NKNV4QorLIY9",
        "outputId": "7a41b68a-b366-493f-aa5b-e76b9dd55b31"
      },
      "source": [
        "#학과 명칭대로 정렬\n",
        " "
      ],
      "execution_count": null,
      "outputs": [
        {
          "output_type": "stream",
          "text": [
            "고고학과       9\n",
            "국어국문학과     7\n",
            "노어노문학과     5\n",
            "독어독문학과     4\n",
            "불어불문학과     5\n",
            "사학과        7\n",
            "언어정보학과     3\n",
            "영어영문학과    30\n",
            "일어일문학과     8\n",
            "중어중문학과     4\n",
            "철학과        5\n",
            "한문학과       6\n",
            "dtype: int64\n"
          ],
          "name": "stdout"
        }
      ]
    },
    {
      "cell_type": "code",
      "metadata": {
        "colab": {
          "base_uri": "https://localhost:8080/"
        },
        "id": "Ddfc1hQk0HXo",
        "outputId": "1e82d13a-fedc-4190-fbf3-2709e3f666bf"
      },
      "source": [
        " "
      ],
      "execution_count": null,
      "outputs": [
        {
          "output_type": "execute_result",
          "data": {
            "text/plain": [
              "고고학과       9\n",
              "국어국문학과     7\n",
              "노어노문학과     5\n",
              "독어독문학과     4\n",
              "불어불문학과     5\n",
              "사학과        7\n",
              "언어정보학과     3\n",
              "영어영문학과    30\n",
              "일어일문학과     8\n",
              "중어중문학과     4\n",
              "철학과        5\n",
              "한문학과       6\n",
              "dtype: int64"
            ]
          },
          "metadata": {
            "tags": []
          },
          "execution_count": 72
        }
      ]
    }
  ]
}