{
  "nbformat": 4,
  "nbformat_minor": 0,
  "metadata": {
    "colab": {
      "name": "07_codelab3_bs.ipynb",
      "provenance": [],
      "toc_visible": true,
      "include_colab_link": true
    },
    "interpreter": {
      "hash": "b3ba2566441a7c06988d0923437866b63cedc61552a5af99d1f4fb67d367b25f"
    },
    "kernelspec": {
      "display_name": "Python 3.8.5 64-bit ('base': conda)",
      "name": "python3"
    },
    "language_info": {
      "name": "python",
      "version": ""
    }
  },
  "cells": [
    {
      "cell_type": "markdown",
      "metadata": {
        "id": "view-in-github",
        "colab_type": "text"
      },
      "source": [
        "<a href=\"https://colab.research.google.com/github/bamcasa/2021_PNUAC_AIData/blob/main/07_codelab3_bs.ipynb\" target=\"_parent\"><img src=\"https://colab.research.google.com/assets/colab-badge.svg\" alt=\"Open In Colab\"/></a>"
      ]
    },
    {
      "cell_type": "markdown",
      "metadata": {
        "id": "ujvDcnX-o9-W"
      },
      "source": [
        "🏷️ **웹 동작원리**\n",
        "\n",
        "\n",
        "---\n",
        "<img src ='https://drive.google.com/uc?export=view&id=1amZ78fUnfp3o5Q1XVKDG3eAAzKaYlPrp'>\n",
        "\n",
        "---"
      ]
    },
    {
      "cell_type": "markdown",
      "metadata": {
        "id": "yaRwPjIG0UbX"
      },
      "source": [
        "# Beautiful Soup 모듈\n",
        "+ HTML 및 XML 문서 를 구문 분석하기 위한 Python 패키지\n",
        "+ DOM 추출\n",
        "+ 기본적으로 UTF-8 인코딩 방식이지만 CP949도 지원"
      ]
    },
    {
      "cell_type": "markdown",
      "metadata": {
        "id": "qXgcvJCO1XM6"
      },
      "source": [
        "🏷️ **웹 스크래핑(Web Scraping)과 웹 크롤링(Web Crawling)**\n",
        "\n",
        "\n",
        "---\n",
        "+ 웹 스크래핑(Web Scraping) : 웹 사이트 상에서 원하는 정보를 추출하는 기술\n",
        "+ 웹 크롤링(Web Crawling) : 웹 크롤러(자동화봇)가정해진 규칙에 따라 웹 페이지를 수집해서 각 사이트의 정보를 분류하는 기술\n",
        "\n",
        "\n",
        "\n",
        "\n",
        "---\n",
        "\n",
        "\n"
      ]
    },
    {
      "cell_type": "markdown",
      "metadata": {
        "id": "7U-axA1K3yaR"
      },
      "source": [
        "## BeautifulSoup 모듈을 활용한 스크래핑"
      ]
    },
    {
      "cell_type": "markdown",
      "metadata": {
        "id": "a2-66aK64FqU"
      },
      "source": [
        "### 1. 웹 페이지 가져오기"
      ]
    },
    {
      "cell_type": "code",
      "metadata": {
        "colab": {
          "base_uri": "https://localhost:8080/",
          "height": 55
        },
        "id": "qSqcLjpt0NZH",
        "outputId": "49159663-7204-408e-b3db-f5f8ac402eb2"
      },
      "source": [
        "#모듈 import \n",
        "from urllib.request import urlopen\n",
        "\n",
        "url = 'https://news.daum.net/ranking/popular'\n",
        "#웹 페이지 가져오기 \n",
        "webpage = urlopen(url).read().decode('utf-8')\n",
        "\n",
        "webpage[:200]"
      ],
      "execution_count": 4,
      "outputs": [
        {
          "output_type": "execute_result",
          "data": {
            "application/vnd.google.colaboratory.intrinsic+json": {
              "type": "string"
            },
            "text/plain": [
              "'\\n<!DOCTYPE html>\\n\\n\\n\\n<html lang=\"ko\" class=\"os_unknown none unknown version_0 \">\\n<head>\\n<meta charset=\"utf-8\">\\n<meta name=\"referrer\" content=\"always\" />\\n\\n<meta property=\"og:author\" content=\"Daum 뉴스\" />'"
            ]
          },
          "metadata": {
            "tags": []
          },
          "execution_count": 4
        }
      ]
    },
    {
      "cell_type": "markdown",
      "metadata": {
        "id": "UiUuj4XA46HA"
      },
      "source": [
        "### 2. BeautifulSoup 객체 생성\n",
        "\n",
        "```python\n",
        "from bs4 import BeautifulSoup as bs\n",
        "\n",
        "인스턴스명 = BeautifulSoup(markup, parser)\n",
        "```\n",
        "* 첫 번째 인자 : HTML 형식의 문자열\n",
        "* 두 번째 인자 : 첫 번째 인자의 문자열을 해석하기 위한 파서\n",
        "\n",
        "  * **파서(parser) 종류**\n",
        "    + html.parser : 파이썬 표준 라이브러리에 포함된 파서로 빠르지만 유연하지 않기 때문에 단순한 HTML문서에 사용\n",
        "\n",
        "        ```\n",
        "        BeautifulSoup(markup, \"html.parser\")\n",
        "        ```\n",
        "\n",
        "    + lxml : 매우 빠르고 유연하지만 외부 의존\n",
        "      - lxml의 HTML 파서\n",
        "          ```\n",
        "          BeautifulSoup(markup, \"lxml\")\n",
        "          ```\n",
        "      - lxml의 XML 파서\n",
        "          ```\n",
        "          BeautifulSoup(markup, \"lxml-xml\")\n",
        "          ```\n",
        "\n",
        "    + html5lib : 웹 브라우저와 동일한 방식으로 페이지 구문 분석하는 파서로 매우 느리지만 매우 유연하지만 외부 의존\n",
        "        ```\n",
        "        BeautifulSoup(markup, \"html5lib\")\n",
        "      ```"
      ]
    },
    {
      "cell_type": "code",
      "metadata": {
        "id": "yBCdkhy15Vrr"
      },
      "source": [
        "#모듈 import \n",
        "from bs4 import BeautifulSoup as bs\n",
        "#DOM 문서 만들기\n",
        "html = bs(webpage, 'html.parser')\n"
      ],
      "execution_count": 12,
      "outputs": []
    },
    {
      "cell_type": "code",
      "metadata": {
        "colab": {
          "base_uri": "https://localhost:8080/"
        },
        "id": "NqqduTmfu_y1",
        "outputId": "1b9cf69a-8b6b-4c4b-d6ce-efe446d3b08c"
      },
      "source": [
        "type(html)"
      ],
      "execution_count": 13,
      "outputs": [
        {
          "output_type": "execute_result",
          "data": {
            "text/plain": [
              "bs4.BeautifulSoup"
            ]
          },
          "metadata": {
            "tags": []
          },
          "execution_count": 13
        }
      ]
    },
    {
      "cell_type": "markdown",
      "metadata": {
        "id": "ZvinaJXV5ZDP"
      },
      "source": [
        "### 2. **Beautiful Soup 파싱 메소드**\n",
        "+ 태그명\n",
        "  + **.find(태그명)** : 조건에 맞는 태그 1개만 찾음\n",
        "  + **.find_all(태그명)** : 조건에 맞는 모든 태그 찾음\n",
        "+ css선택자\n",
        "  + **.select_one(선택자)** : 조건에 맞는 CSS선택자 1개만 찾음\n",
        "  + **.select(선택자)** : 조건에 맞는 CSS선택자 찾음"
      ]
    },
    {
      "cell_type": "markdown",
      "metadata": {
        "id": "KtEAsQTx72Ab"
      },
      "source": [
        "🏷️ **HTML과 CSS**\n",
        "\n",
        "\n",
        "---\n",
        "\n",
        "\n",
        "\n",
        "+ **HTML(Hyper Text Markup Language)**\n",
        "  + 웹페이지 상에서 문단, 제목, 표, 이미지, 동영상 등을 정의하고 웹페이지 내용을 구조화하고 의미를 부여하는 마크업 언어\n",
        "+ **CSS(Cascading Style Sheet)**\n",
        "  + 색상, 레이아웃 및 글꼴등 웹페이지의 디자인 요소를 담당하는 선언형 언어로 스타일 시트(Style Sheet)라고도 하고, HTML로 작성된 웹페이지를 보기 좋게 꾸며주는 스타일 규칙 언어\n",
        "\n",
        "+ 참고 사이트 : <https://www.w3schools.com/>\n",
        "\n",
        "\n",
        "---\n",
        "\n"
      ]
    },
    {
      "cell_type": "markdown",
      "metadata": {
        "id": "IrOBlRCZxdcd"
      },
      "source": [
        "#mArticle > div.rank_news > ul.list_news2 > li"
      ]
    },
    {
      "cell_type": "code",
      "metadata": {
        "colab": {
          "base_uri": "https://localhost:8080/"
        },
        "id": "CU0NvcF06bOt",
        "outputId": "9b56ffa9-c97f-44bc-ae14-ca26ae5acbd4"
      },
      "source": [
        "#자료 추출하기\n",
        "lis = html.select(\"#mArticle > div.rank_news > ul.list_news2 > li\")\n",
        "print(type(lis), ' 요소 수 : ', len(lis))\n",
        "print(lis[0])"
      ],
      "execution_count": 23,
      "outputs": [
        {
          "output_type": "stream",
          "text": [
            "<class 'list'>  요소 수 :  50\n",
            "<li data-tiara-layer=\"news_list\" data-tiara-ordnum=\"1\" data-tiara-type=\"article\">\n",
            "<div class=\"rank_num rank_popular\">\n",
            "<span class=\"wrap_num\">\n",
            "<span class=\"num_rank\">\n",
            "<span class=\"num_news num1\"></span>\n",
            "<span class=\"screen_out\">1</span>\n",
            "</span>\n",
            "</span>\n",
            "</div>\n",
            "<a class=\"link_thumb\" href=\"https://v.daum.net/v/20210708165817478\">\n",
            "<img alt=\"코로나19 하루 확진자 2000명 '빨간불'\" aria-hidden=\"true\" class=\"thumb_g\" src=\"https://img1.daumcdn.net/thumb/S95x77ht.u/?fname=https%3A%2F%2Ft1.daumcdn.net%2Fnews%2F202107%2F08%2Fkhan%2F20210708170907834sxdj.jpg&amp;scode=media\"/>\n",
            "</a>\n",
            "<div class=\"cont_thumb\">\n",
            "<strong class=\"tit_thumb\">\n",
            "<a class=\"link_txt\" href=\"https://v.daum.net/v/20210708165817478\">코로나19 하루 확진자 2000명 '빨간불'</a>\n",
            "<span class=\"info_news\">경향신문</span>\n",
            "</strong>\n",
            "<div class=\"desc_thumb\">\n",
            "<span class=\"link_txt\">\n",
            "                        [경향신문] 코로나19 재유행이 급격하게 진행되고 델타변이 바이러스의 출현이 늘고 있는 가운데, 현재와 같은 추세라면 2주 후에 1일 확진자가 최대 2000명에 이를 수 ...\n",
            "                    </span>\n",
            "</div>\n",
            "</div>\n",
            "</li>\n"
          ],
          "name": "stdout"
        }
      ]
    },
    {
      "cell_type": "code",
      "metadata": {
        "colab": {
          "base_uri": "https://localhost:8080/"
        },
        "id": "IkwduFv29ai6",
        "outputId": "e4d9db01-9b20-48f3-9a91-a42095866887"
      },
      "source": [
        "#필요한 자료 만들기\n",
        "for li in lis:\n",
        "  title = li.select_one('.cont_thumb > .tit_thumb > a').text.replace('\"','')\n",
        "  print(title)"
      ],
      "execution_count": 26,
      "outputs": [
        {
          "output_type": "stream",
          "text": [
            "코로나19 하루 확진자 2000명 '빨간불'\n",
            "하루 1만보는 일본 상술..2천보만 따로 걸어도 OK\n",
            "8000만원 더 줘도 안 판다..몸값 치솟는 쌍문동 아파트\n",
            "조선시대 궁녀들 어디서 변을 봤을까.. 놀라운 발견\n",
            "대지진 전조로 유명 日앞바다서 '전설의 희귀어종' 발견\n",
            "계단·화장실에서 못볼 짓..결국 '동성애자 화장실 출입금지' 내건 종로빌딩\n",
            "'300m 건물 휘청' 기겁한 중국..500m 넘는 초고층 신축 금지\n",
            "'오후 6시 이후 통금' 수도권 4단계, 내일 발표 가능성\n",
            "홀쭉해진 김정은, 김일성 27주기 금수산참배로 '신변이상설' 불식\n",
            "'뺨 때리는 부인 논란' 레스쿠이에 주한 대사에 벨기에 정부 빨리 들어와라 지시\n",
            "문 안 열려, 브레이크도.. 운전자 숨진 티볼리 사고[영상]\n",
            "보이스피싱에 1천만원 건네려던 80대, 지하철역서 구조돼\n",
            "빈소서 첫 대면..윤석열 존경받는 분 최재형 조문 감사\n",
            "두번째 '폭행'에..벨기에 외교장관 대사부부, 돌아오라\n",
            "수준 미달 엉터리 논문..열린민주당, '김건희 씨 논문 조사' 촉구 [TF사진관]\n",
            "[날씨] 장맛비 대신 소나기, 다음 주 무더위..장마 끝났나?\n",
            "50만원 예상했는데 1800만원..'납작복숭아' 36배 대박\n",
            "이준석 윤석열 입당 안하고 11월 단일화? 부정적 효과 있을 것\n",
            "살이 쏙 빠진 채 등장한 김정은..김일성 27주기에 금수산 참배\n",
            "남편을 오빠라 부르면 안돼..北, MZ세대 남한식 말투 '금지령'\n",
            "남성, 앉아서 소변 보기.. 좋을까? 나쁠까?\n",
            "확진 76명, 방문객 감염 0..현대百 주범은 화장실 수도꼭지?\n",
            "여론조사 1위 이재명 '굳히기'.. 국민면접 1위 이낙연 '역전'\n",
            "코로나 독감처럼 관리 안되나? 이 질문에 정은경이 한 말\n",
            "인천 부평구 공무원, 한달 전 화이자 2차 접종하고도 확진\n",
            "[ET] 밤 새며 줄 서는 햄버거 온다? '고든 램지' 버거 뭐길래\n",
            "진중권 민주당 대표는 송영길 아니라 김어준.. 이준석은 '나는 국대다' 왜 했니?\n",
            "김정은, 4달동안 10~20kg 감량..'살찐 지도자' 부담됐나\n",
            "서울중앙지검장, 윤석열 수사 최선봉.. 사법 리스크 높아지는 尹\n",
            "내일 새벽 열대야 온다..'시간당 50mm' 소나기도\n",
            "홍준표, 한국갤럽에 분노 내 이름 넣지 마라\n",
            "회사 직원 절반이 현대백화점 방문..비상 걸린 강남 일대\n",
            "윤석열 장모 작은어머니 명신이(김건희)가 양 검사 꽉 쥐고 있다\n",
            "'사육장 탈출' 반달곰 1마리 수색 중단..사살 대신 생포 방침\n",
            "수도권 거리두기 격상 초읽기에..주문 몰리더니 '품절 대란'\n",
            "'검찰 작심 비판' 이태종 마음에 안 들면 끝까지 괴롭혀..무리한 기소(종합)\n",
            "노인 기초연금도 무상급식처럼..65세 이상에 차등없이 지급하라\n",
            "[단독] 세금낼 돈 없다버티더니..코인 886억어치 딱 걸렸다\n",
            "수익 40%가 직원 월급, 공장 접고 싶다..中企업계 최저임금 동결해야\n",
            "김 총리, 내일 중대본 회의 주재..수도권 '4단계' 격상할 듯\n",
            "[사진톡톡] 대통령의 '진짜' 선물\n",
            "한국, 원래부터 선진국 아냐?..UN 韓선진국 선정 소식에 中반응 보니\n",
            "'아바타를 개발을 중심으로' '회원 Yuji'.. 尹 아내, 논문논란 일파만파\n",
            "오후 6시 1076명, 어제보다 45명↑..사상최다 하루 만에 경신할 듯(상보)\n",
            "홍대 상인 호소 정부가 국민 심리 방어선 무너뜨려\n",
            "수도권 거리두기 4단계?..이르면 내일 발표 가능성도\n",
            "오후 6시까지 1천39명 확진, 어제보다 29명↑..사흘연속 1천명 넘어\n",
            "'수도권 4단계' 발표 임박했나..이르면 내일 발표 관측도\n",
            "이선균 같은 어른 많지 않아..서당 폭행 선고서 '나의 아저씨' 언급\n",
            "아스트라제네카 코로나19 백신 혈전증 유발 원인 밝혔다\n"
          ],
          "name": "stdout"
        }
      ]
    },
    {
      "cell_type": "markdown",
      "metadata": {
        "id": "o0j52hED_Mqu"
      },
      "source": [
        "## 해결문제\n",
        "---\n",
        "댓글많은 뉴스를 사이트의 제목을 수집해서 AI Cloud의 무료 AI 서비스 중 텍스트 감정 분석 결과를 분석하고 결과를 파일로 저장하시오.단, 감성분석 분석(긍정,중립,부정)은 함수를 이용하여 작성하고 댓글수와 제목의 쉼표는 제거하시오.\n",
        "\n",
        "예시) \n",
        "news.csv 내용\n",
        "```\n",
        "순위,제목,댓글수,언론사,감성,신뢰도\n",
        "1,故손정민 父 \"서울경찰청 정민이와 나를 미워한다\",2564,데일리안,부정,0.9970703125\n",
        "2,신고만하면 한국인? \"中에 나라 파냐\" 국적법 때린 반중정서,2274,중앙일보,부정,0.99755859375\n",
        "3,'잔여 백신' 첫날 젊은층 대거 몰렸다..AZ 부정적 시선 바뀌나,1726,파이낸셜뉴스,부정,0.98974609375\n",
        "4,'도쿄올림픽 지도서 독도 삭제' 요구에 日정부 \"수용 불가\",1543,연합뉴스,부정,0.9873046875\n",
        "\n",
        "...\n",
        "\n",
        "47,\"손정민 사건 제가 책임지고\"..경찰 '김창룡 청장 가짜뉴스' 내사,115,뉴스1,부정,0.9921875\n",
        "48,로또 1등 수령자에 통장 비번 요구·5억 적금 강매한 농협,105,뉴스1,부정,0.99072265625\n",
        "49,'도쿄올림픽 지도서 독도 삭제' 韓요구에 日정부 \"수용 불가\",97,중앙일보,부정,0.986328125\n",
        "50,올림픽 취소로 日 배상금 떠안나..日언론 \"IOC와 불평등 계약\",93,뉴스1,부정,0.99609375\n",
        "\n",
        "```"
      ]
    },
    {
      "cell_type": "markdown",
      "metadata": {
        "id": "aTyzoYLczhyR"
      },
      "source": [
        "https://news.daum.net/ranking/bestreply"
      ]
    },
    {
      "cell_type": "markdown",
      "metadata": {
        "id": "CNlmUIWDdO64"
      },
      "source": [
        "\n",
        "\n",
        "---\n",
        "\n",
        "\n",
        "※ 카카오톡 메신저 내용 분석해보기\n",
        "\n",
        "\n",
        "---\n",
        "\n"
      ]
    }
  ]
}